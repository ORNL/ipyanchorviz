{
 "cells": [
  {
   "cell_type": "code",
   "execution_count": null,
   "id": "9cf4699a-b18d-45c6-b2b5-7ca0786bd251",
   "metadata": {},
   "outputs": [],
   "source": [
    "%load_ext autoreload\n",
    "%autoreload 2"
   ]
  },
  {
   "cell_type": "code",
   "execution_count": null,
   "id": "afcafe88-a874-41b8-b6ea-54c58ba8bbeb",
   "metadata": {},
   "outputs": [],
   "source": [
    "from ipywidgets import Output, HBox, VBox\n",
    "from IPython import display\n",
    "import pandas as pd\n",
    "import ipyanchorviz as av"
   ]
  },
  {
   "cell_type": "code",
   "execution_count": null,
   "id": "a8093e34-a586-42f4-8a7f-5ba0087238c2",
   "metadata": {},
   "outputs": [],
   "source": [
    "av.__version__"
   ]
  },
  {
   "cell_type": "markdown",
   "id": "90e0115a-125e-4cf1-8a4c-182a22524510",
   "metadata": {
    "tags": []
   },
   "source": [
    "# Helper Functions"
   ]
  },
  {
   "cell_type": "code",
   "execution_count": null,
   "id": "0fe58bca-8248-4aef-944d-e862fce2d507",
   "metadata": {},
   "outputs": [],
   "source": [
    "def testing_dash(viz: av.AnchorViz):\n",
    "    anchor_display = Output()\n",
    "    data_display = Output()\n",
    "    lassoed_data_display = Output()\n",
    "    selected_anchor_display = Output()\n",
    "    selected_point_display = Output()\n",
    "    def anchorchanges(change):\n",
    "        with anchor_display:\n",
    "            display.clear_output(wait=True)\n",
    "            display.display(pd.DataFrame(viz.anchors))\n",
    "    def datachanges(change):\n",
    "        with data_display:\n",
    "            display.clear_output(wait=True)\n",
    "            display.display(pd.DataFrame(viz.data))\n",
    "    def lassochanges(change):\n",
    "        data = pd.DataFrame(viz.data)\n",
    "        with lassoed_data_display:\n",
    "            display.clear_output(wait=True)\n",
    "            if \"id\" in data.columns:\n",
    "                display.display(data[data.id.isin(viz.lassoedPointIDs)])\n",
    "    def selectedanchorchanges(change):\n",
    "        with selected_anchor_display:\n",
    "            display.clear_output(wait=True)\n",
    "            print(\"selected anchor ID:\", viz.selectedAnchorID)\n",
    "    def selecteddatachanges(change):\n",
    "        with selected_point_display:\n",
    "            display.clear_output(wait=True)\n",
    "            print(\"selected data point ID:\", viz.selectedDataPointID)\n",
    "    viz.observe(anchorchanges, names=\"anchors\")\n",
    "    viz.observe(datachanges, names=\"data\")\n",
    "    viz.observe(lassochanges, names=\"lassoedPointIDs\")\n",
    "    viz.observe(selectedanchorchanges, names=\"selectedAnchorID\")\n",
    "    viz.observe(selecteddatachanges, names=\"selectedDataPointID\")\n",
    "\n",
    "    anchorchanges(None)\n",
    "    datachanges(None)\n",
    "    lassochanges(None)\n",
    "    \n",
    "    return HBox([viz, VBox([anchor_display, data_display]), VBox([lassoed_data_display, selected_anchor_display, selected_point_display])])"
   ]
  },
  {
   "cell_type": "code",
   "execution_count": null,
   "id": "b3420bc9-0680-460e-8634-2d210dea470e",
   "metadata": {},
   "outputs": [],
   "source": [
    "def simple_testing_data():\n",
    "    anchors = [\n",
    "        {\"id\": \"0\", \"name\": \"test anchor\", \"color\": \"red\", \"theta\": -0.5},\n",
    "        {\"id\": \"1\", \"name\": \"test anchor 2\", \"theta\": -0.9}\n",
    "    ]\n",
    "    data = [\n",
    "        {\"id\": \"0\", \"color\": \"orange\", \"weights\": { \"0\": 0.5, \"1\": 0.5}},\n",
    "        {\"id\": \"1\", \"color\": \"orange\", \"weights\": { \"0\": 0.0, \"1\": 0.0}},\n",
    "        {\"id\": \"2\", \"color\": \"orange\", \"weights\": { \"0\": 1.0, \"1\": 1.1}},\n",
    "        {\"id\": \"3\", \"color\": \"blue\", \"weights\": { \"0\": 1.0, \"1\": 0.0}, \"labeled\": True},\n",
    "        {\"id\": \"4\", \"color\": \"blue\", \"weights\": { \"0\": 1.0, \"1\": 0.5}},\n",
    "        {\"id\": \"5\", \"color\": \"orange\", \"weights\": { \"0\": 0.0, \"1\": 1.0}, \"labeled\": True},\n",
    "        {\"id\": \"6\", \"color\": \"blue\", \"weights\": { \"0\": 0.0, \"1\": 0.5}},\n",
    "    ]\n",
    "    return anchors, data"
   ]
  },
  {
   "cell_type": "code",
   "execution_count": null,
   "id": "f853922d-bfbb-4bd0-916b-67b0299f5b24",
   "metadata": {},
   "outputs": [],
   "source": [
    "def simple_very_clustered_data():\n",
    "    anchors = [\n",
    "        {\"id\": \"0\", \"name\": \"test anchor 2\", \"theta\": -0.9}\n",
    "    ]\n",
    "    data = [{\"id\": str(i), \"weights\": { \"0\": float(i % 2) }} for i in range(20)]\n",
    "    return anchors, data"
   ]
  },
  {
   "cell_type": "markdown",
   "id": "a316e74e-c631-46ee-a8fe-773327db95bb",
   "metadata": {
    "tags": []
   },
   "source": [
    "# Basic Tests"
   ]
  },
  {
   "cell_type": "markdown",
   "id": "32eb723c-d7f6-466c-b7e5-b49eea4aea0b",
   "metadata": {
    "tags": []
   },
   "source": [
    "## Sanity\n",
    "\n",
    "* Does it run without errors?\n",
    "* Can you click and drag the anchors?\n",
    "* Can you hover over points and change selected data id?\n",
    "* Can you click anchors to change selected anchor id?\n",
    "* Do the table values update as you move anchors?\n",
    "* Can you click the ring to add more anchors?"
   ]
  },
  {
   "cell_type": "code",
   "execution_count": null,
   "id": "d2201a19-f262-40c9-854f-a2aefeb35e30",
   "metadata": {
    "tags": []
   },
   "outputs": [],
   "source": [
    "a, d = simple_testing_data()\n",
    "viz = av.AnchorViz(anchors=a, data=d, autoNorm = True, noiseMagnitude=0)\n",
    "testing_dash(viz)"
   ]
  },
  {
   "cell_type": "markdown",
   "id": "44c29c61-9418-44db-8e13-d94e683e32d3",
   "metadata": {},
   "source": [
    "## Added noise\n",
    "\n",
    "* Does setting noise magnitude spread out heavily clustered points?\n",
    "* Is the noise magnitude evenly spread out around the _center_?"
   ]
  },
  {
   "cell_type": "code",
   "execution_count": null,
   "id": "4556ed7e-c2e7-433d-b249-4e6d902162a6",
   "metadata": {},
   "outputs": [],
   "source": [
    "a2, d2 = simple_very_clustered_data()\n",
    "viz2 = av.AnchorViz(anchors=a2, data=d2, autoNorm=True, noiseMagnitude=0)\n",
    "viz3 = av.AnchorViz(anchors=a2, data=d2, autoNorm=True, noiseMagnitude=30)\n",
    "VBox([\n",
    "    testing_dash(viz2),\n",
    "    testing_dash(viz3)\n",
    "])"
   ]
  },
  {
   "cell_type": "markdown",
   "id": "7447e2f0-6f7f-4492-ab15-be44f4a296aa",
   "metadata": {},
   "source": [
    "---"
   ]
  },
  {
   "cell_type": "code",
   "execution_count": null,
   "id": "cb31ca5e-1c48-4df5-bc74-da4746e00517",
   "metadata": {},
   "outputs": [],
   "source": [
    "import random\n",
    "def gen_big_data(n=100):\n",
    "    points = []\n",
    "    for i in range(n):\n",
    "        point = dict(id=str(i), color=(\"blue\" if i%2 == 0 else \"orange\"), labeled=(i%5 == 0), weights=dict())\n",
    "        for key in [\"0\", \"1\", \"2\", \"3\"]:\n",
    "            val = random.random()\n",
    "            if key == \"0\" and i%2 == 0:\n",
    "                val += .5\n",
    "                val *= 4\n",
    "            point[\"weights\"][key] = val\n",
    "        points.append(point)\n",
    "    return points"
   ]
  },
  {
   "cell_type": "code",
   "execution_count": null,
   "id": "f8b29eca-5002-49db-8ac6-6c6c909f0e1d",
   "metadata": {},
   "outputs": [],
   "source": [
    "viz.data = gen_big_data()"
   ]
  },
  {
   "cell_type": "code",
   "execution_count": null,
   "id": "be4ad213-df6b-4f71-a510-288bd40f9128",
   "metadata": {},
   "outputs": [],
   "source": [
    "viz.modify_anchor(0, \"name\", \"Blue feature\")\n",
    "viz.modify_anchor(1, \"name\", \"Orange feature 1\")\n",
    "viz.modify_anchor(2, \"name\", \"Orange feature 2\")\n",
    "viz.modify_anchor(3, \"name\", \"Orange feature 3\")"
   ]
  },
  {
   "cell_type": "code",
   "execution_count": null,
   "id": "3cfe1b4c-b709-4cc6-ae7f-97e42d457901",
   "metadata": {},
   "outputs": [],
   "source": [
    "alt_data = [\n",
    "    {\"id\": \"0\", \"color\": \"blue\", \"weights\": { \"0\": 0.5, \"1\": 0.6}, \"labeled\": True},\n",
    "    {\"id\": \"1\", \"color\": \"blue\", \"weights\": { \"0\": 0.0, \"1\": 0.1}, \"labeled\": True},\n",
    "    {\"id\": \"2\", \"color\": \"blue\", \"weights\": { \"0\": 0.4, \"1\": 1.1}, \"labeled\": True},\n",
    "    {\"id\": \"3\", \"color\": \"blue\", \"weights\": { \"0\": 0.0, \"1\": 1.0}, \"labeled\": True},\n",
    "    {\"id\": \"4\", \"color\": \"blue\", \"weights\": { \"0\": 0.0, \"1\": 1.5}},\n",
    "    {\"id\": \"5\", \"color\": \"blue\", \"weights\": { \"0\": 0.7, \"1\": 1.0}, \"labeled\": True},\n",
    "    {\"id\": \"6\", \"color\": \"blue\", \"weights\": { \"0\": 0.5, \"1\": 0.5}},\n",
    "    {\"id\": \"7\", \"color\": \"blue\", \"weights\": { \"0\": 0.4, \"1\": 0.7}},\n",
    "]\n",
    "viz.data = alt_data"
   ]
  },
  {
   "cell_type": "code",
   "execution_count": null,
   "id": "48d6070b-8103-4526-8d0c-38058051c381",
   "metadata": {},
   "outputs": [],
   "source": [
    "viz.modify_point(3, \"color\", \"green\")\n",
    "viz.modify_point(4, \"color\", \"green\")"
   ]
  },
  {
   "cell_type": "code",
   "execution_count": null,
   "id": "46cfe747-c716-49c1-8263-50dbf955b1f3",
   "metadata": {},
   "outputs": [],
   "source": [
    "viz.add_point({\"color\": \"yellow\", \"weights\": { \"0\": 0.6, \"1\": 0.2 }})"
   ]
  },
  {
   "cell_type": "code",
   "execution_count": null,
   "id": "1edc5653-8731-4623-8fef-97633fa03dbe",
   "metadata": {},
   "outputs": [],
   "source": [
    "viz.lassoedPointIDs = [1, 2]"
   ]
  },
  {
   "cell_type": "code",
   "execution_count": null,
   "id": "bc30f4ad-3b8f-41e1-9009-edb27d3d8bc7",
   "metadata": {},
   "outputs": [],
   "source": [
    "viz.selectedAnchorID = \"1\""
   ]
  },
  {
   "cell_type": "code",
   "execution_count": null,
   "id": "1bf77c74-87d7-42ed-a73a-c11109a6a269",
   "metadata": {},
   "outputs": [],
   "source": [
    "viz.selectedDataPointID = \"0\""
   ]
  },
  {
   "cell_type": "code",
   "execution_count": null,
   "id": "58b1aad1-123c-460e-aa81-efa2437c98b2",
   "metadata": {},
   "outputs": [],
   "source": [
    "viz.anchors = [\n",
    "    {\"id\": \"0\", \"name\": \"things\", \"theta\": 1.5},\n",
    "    {\"id\": \"1\", \"name\": \"things2\", \"theta\": 2.5}\n",
    "]"
   ]
  },
  {
   "cell_type": "markdown",
   "id": "be5b3f1a-a35b-41a2-a479-a0c1a000e577",
   "metadata": {},
   "source": [
    "Add anchor via python"
   ]
  },
  {
   "cell_type": "code",
   "execution_count": null,
   "id": "5b624f96-9bc7-4968-8c5d-e47f00c96614",
   "metadata": {},
   "outputs": [],
   "source": [
    "# type(viz.anchors), type(viz.anchors[0])"
   ]
  },
  {
   "cell_type": "code",
   "execution_count": null,
   "id": "1da03f67-5b28-43ff-b66d-89637aba1893",
   "metadata": {},
   "outputs": [],
   "source": [
    "# viz.anchors = viz.anchors + [{\"id\": 5, \"name\": \"things\", \"theta\": 1.5}]"
   ]
  },
  {
   "cell_type": "markdown",
   "id": "31865ae0-09ea-482d-a2f9-ed32a82444cc",
   "metadata": {},
   "source": [
    "Modify anchor via python"
   ]
  },
  {
   "cell_type": "code",
   "execution_count": null,
   "id": "c341dfd1-0342-4f91-84cd-7542a7f05082",
   "metadata": {},
   "outputs": [],
   "source": [
    "viz.modify_anchor(1, \"color\", \"purple\")"
   ]
  },
  {
   "cell_type": "code",
   "execution_count": null,
   "id": "4a55e51a-3698-4485-b199-18f8ee02c375",
   "metadata": {},
   "outputs": [],
   "source": [
    "anchor_to_change = viz.anchors[1]\n",
    "anchor_to_change[\"color\"] = \"purple\"\n",
    "viz.anchors.pop(1)\n",
    "viz.anchors = viz.anchors + [anchor_to_change]\n"
   ]
  },
  {
   "cell_type": "code",
   "execution_count": null,
   "id": "cd5150e8-67db-4d4a-a116-dd3d683b83b7",
   "metadata": {},
   "outputs": [],
   "source": [
    "viz.anchors[1]"
   ]
  },
  {
   "cell_type": "code",
   "execution_count": null,
   "id": "0bd32753-300b-4e71-a215-c56fb074e7f1",
   "metadata": {},
   "outputs": [],
   "source": [
    "viz.anchors[1] = dict(id=1, name=\"whaaaa\", theta=\"0.5\", color=\"orange\")"
   ]
  },
  {
   "cell_type": "code",
   "execution_count": null,
   "id": "e096fe32-2462-4e30-84ad-bdb636918465",
   "metadata": {},
   "outputs": [],
   "source": [
    "type(viz.anchors)"
   ]
  },
  {
   "cell_type": "code",
   "execution_count": null,
   "id": "76d57c80-c043-4e3e-a0ac-0ced5b62dc05",
   "metadata": {},
   "outputs": [],
   "source": [
    "viz.anchors[1][\"color\"] = \"orange\""
   ]
  },
  {
   "cell_type": "code",
   "execution_count": null,
   "id": "329cefcc-e37f-4d40-8478-9f7477ec1a42",
   "metadata": {},
   "outputs": [],
   "source": [
    "viz.anchors[1][\"color\"] = \"orange\"\n",
    "viz.notify_change({\"name\": \"anchors\", \"type\":\"change\"})"
   ]
  },
  {
   "cell_type": "code",
   "execution_count": null,
   "id": "d5511453-c9d7-4175-9d89-4d10ac331ed8",
   "metadata": {},
   "outputs": [],
   "source": [
    "anchors = viz.anchors\n",
    "anchors[1][\"color\"] = \"green\"\n",
    "viz.anchors = anchors"
   ]
  },
  {
   "cell_type": "markdown",
   "id": "fb916e4a-6486-451c-bddd-48615757b39e",
   "metadata": {},
   "source": [
    "Delete anchor via python"
   ]
  },
  {
   "cell_type": "code",
   "execution_count": null,
   "id": "eb6fe8ec-6bfb-4392-a7fe-c63e8eccbd50",
   "metadata": {},
   "outputs": [],
   "source": [
    "viz.anchors = [viz.anchors[0]]"
   ]
  },
  {
   "cell_type": "code",
   "execution_count": null,
   "id": "9b78867d-aa44-4dfc-9a5c-8bd204a1a0d6",
   "metadata": {},
   "outputs": [],
   "source": [
    "viz.anchors"
   ]
  }
 ],
 "metadata": {
  "kernelspec": {
   "display_name": "Python 3 (ipykernel)",
   "language": "python",
   "name": "python3"
  },
  "language_info": {
   "codemirror_mode": {
    "name": "ipython",
    "version": 3
   },
   "file_extension": ".py",
   "mimetype": "text/x-python",
   "name": "python",
   "nbconvert_exporter": "python",
   "pygments_lexer": "ipython3",
   "version": "3.10.5"
  }
 },
 "nbformat": 4,
 "nbformat_minor": 5
}
