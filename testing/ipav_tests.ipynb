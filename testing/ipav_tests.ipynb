{
 "cells": [
  {
   "cell_type": "code",
   "execution_count": 1,
   "id": "9cf4699a-b18d-45c6-b2b5-7ca0786bd251",
   "metadata": {},
   "outputs": [],
   "source": [
    "%load_ext autoreload\n",
    "%autoreload 2"
   ]
  },
  {
   "cell_type": "code",
   "execution_count": 2,
   "id": "afcafe88-a874-41b8-b6ea-54c58ba8bbeb",
   "metadata": {},
   "outputs": [],
   "source": [
    "from ipywidgets import Output, HBox, VBox\n",
    "from IPython import display\n",
    "import pandas as pd\n",
    "import ipyanchorviz as av"
   ]
  },
  {
   "cell_type": "code",
   "execution_count": 3,
   "id": "a8093e34-a586-42f4-8a7f-5ba0087238c2",
   "metadata": {},
   "outputs": [
    {
     "data": {
      "text/plain": [
       "'0.1.0'"
      ]
     },
     "execution_count": 3,
     "metadata": {},
     "output_type": "execute_result"
    }
   ],
   "source": [
    "av.__version__"
   ]
  },
  {
   "cell_type": "code",
   "execution_count": 4,
   "id": "d2201a19-f262-40c9-854f-a2aefeb35e30",
   "metadata": {
    "tags": []
   },
   "outputs": [],
   "source": [
    "viz = av.AnchorViz(\n",
    "    anchors=[\n",
    "        {\"id\": \"0\", \"name\": \"test anchor\", \"color\": \"red\", \"theta\": -0.5},\n",
    "        {\"id\": \"1\", \"name\": \"test anchor 2\", \"theta\": -0.9}\n",
    "    ],\n",
    "    data = [\n",
    "        {\"id\": \"0\", \"color\": \"orange\", \"weights\": { \"0\": 0.5, \"1\": 0.5}},\n",
    "        {\"id\": \"1\", \"color\": \"orange\", \"weights\": { \"0\": 0.0, \"1\": 0.0}},\n",
    "        {\"id\": \"2\", \"color\": \"orange\", \"weights\": { \"0\": 1.0, \"1\": 1.1}},\n",
    "        {\"id\": \"3\", \"color\": \"blue\", \"weights\": { \"0\": 1.0, \"1\": 0.0}, \"labeled\": True},\n",
    "        {\"id\": \"4\", \"color\": \"blue\", \"weights\": { \"0\": 1.0, \"1\": 0.5}},\n",
    "        {\"id\": \"5\", \"color\": \"orange\", \"weights\": { \"0\": 0.0, \"1\": 1.0}, \"labeled\": True},\n",
    "        {\"id\": \"6\", \"color\": \"blue\", \"weights\": { \"0\": 0.0, \"1\": 0.5}},\n",
    "    ],\n",
    "    autoNorm = True\n",
    ")"
   ]
  },
  {
   "cell_type": "code",
   "execution_count": 5,
   "id": "66c1fb46-77c6-4807-b6c2-8eb3aa8cf09a",
   "metadata": {},
   "outputs": [],
   "source": [
    "import logging\n",
    "\n",
    "def new_anchor_added(content):\n",
    "    logging.info(\"new anchor!\")\n",
    "def anchor_dragged(content):\n",
    "    logging.info(\"anchor dragged\")\n",
    "\n",
    "viz.on_anchor_add(new_anchor_added)\n",
    "viz.on_anchor_drag(anchor_dragged)"
   ]
  },
  {
   "cell_type": "code",
   "execution_count": 6,
   "id": "638845e1-6024-46a7-adad-00d941d218d7",
   "metadata": {},
   "outputs": [],
   "source": [
    "anchor_display = Output()\n",
    "data_display = Output()\n",
    "lassoed_data_display = Output()\n",
    "selected_anchor_display = Output()\n",
    "selected_point_display = Output()\n",
    "what_display = Output()\n",
    "def anchorchanges(change):\n",
    "    with anchor_display:\n",
    "        display.clear_output(wait=True)\n",
    "        display.display(pd.DataFrame(viz.anchors))\n",
    "def datachanges(change):\n",
    "    with data_display:\n",
    "        display.clear_output(wait=True)\n",
    "        display.display(pd.DataFrame(viz.data))\n",
    "def lassochanges(change):\n",
    "    data = pd.DataFrame(viz.data)\n",
    "    with lassoed_data_display:\n",
    "        display.clear_output(wait=True)\n",
    "        if \"id\" in data.columns:\n",
    "            display.display(data[data.id.isin(viz.lassoedPointIDs)])\n",
    "def selectedanchorchanges(change):\n",
    "    with selected_anchor_display:\n",
    "        display.clear_output(wait=True)\n",
    "        print(\"selected anchor ID:\", viz.selectedAnchorID)\n",
    "def selecteddatachanges(change):\n",
    "    with selected_point_display:\n",
    "        display.clear_output(wait=True)\n",
    "        print(\"selected data point ID:\", viz.selectedDataPointID)\n",
    "viz.observe(anchorchanges, names=\"anchors\")\n",
    "viz.observe(datachanges, names=\"data\")\n",
    "viz.observe(lassochanges, names=\"lassoedPointIDs\")\n",
    "viz.observe(selectedanchorchanges, names=\"selectedAnchorID\")\n",
    "viz.observe(selecteddatachanges, names=\"selectedDataPointID\")\n",
    "\n",
    "anchorchanges(None)\n",
    "datachanges(None)\n",
    "lassochanges(None)"
   ]
  },
  {
   "cell_type": "code",
   "execution_count": 7,
   "id": "f0462523-b9d2-4537-a78c-4880e71ee504",
   "metadata": {},
   "outputs": [
    {
     "name": "stderr",
     "output_type": "stream",
     "text": [
      "WARNING:root:help\n"
     ]
    }
   ],
   "source": [
    "logging.warning(\"help\")"
   ]
  },
  {
   "cell_type": "code",
   "execution_count": 8,
   "id": "918647c2-ce5a-4637-b2a9-f97beec3c9ab",
   "metadata": {},
   "outputs": [],
   "source": [
    "viz._anchor_drag_callbacks.callbacks[0](\"test\")"
   ]
  },
  {
   "cell_type": "code",
   "execution_count": 9,
   "id": "13149ad8-548b-48bb-b854-ec072cc3dc06",
   "metadata": {},
   "outputs": [
    {
     "data": {
      "application/vnd.jupyter.widget-view+json": {
       "model_id": "97260e0697dd475d829e33cc6519d923",
       "version_major": 2,
       "version_minor": 0
      },
      "text/plain": [
       "AnchorViz(anchors=[{'id': '0', 'name': 'test anchor', 'color': 'red', 'theta': -0.5}, {'id': '1', 'name': 'tes…"
      ]
     },
     "metadata": {},
     "output_type": "display_data"
    }
   ],
   "source": [
    "viz"
   ]
  },
  {
   "cell_type": "code",
   "execution_count": 10,
   "id": "4fb5a61e-57e3-445c-a164-f96a51671950",
   "metadata": {},
   "outputs": [
    {
     "data": {
      "application/vnd.jupyter.widget-view+json": {
       "model_id": "5e1ec5b89e534b2b91a17a2480b2483b",
       "version_major": 2,
       "version_minor": 0
      },
      "text/plain": [
       "HBox(children=(AnchorViz(anchors=[{'id': '0', 'name': 'test anchor', 'color': 'red', 'theta': -0.5}, {'id': '1…"
      ]
     },
     "metadata": {},
     "output_type": "display_data"
    }
   ],
   "source": [
    "HBox([viz, VBox([anchor_display, data_display]), VBox([lassoed_data_display, selected_anchor_display, selected_point_display, what_display])])"
   ]
  },
  {
   "cell_type": "markdown",
   "id": "5ec70bd5-5fbc-4d51-a404-563c4fa06727",
   "metadata": {},
   "source": [
    "Try adding two anchors above."
   ]
  },
  {
   "cell_type": "code",
   "execution_count": 18,
   "id": "cb31ca5e-1c48-4df5-bc74-da4746e00517",
   "metadata": {},
   "outputs": [],
   "source": [
    "import random\n",
    "def gen_big_data(n=100):\n",
    "    points = []\n",
    "    for i in range(n):\n",
    "        point = dict(id=str(i), color=(\"blue\" if i%2 == 0 else \"orange\"), labeled=(i%5 == 0), weights=dict())\n",
    "        for key in [\"0\", \"1\", \"2\", \"3\"]:\n",
    "            val = random.random()\n",
    "            if key == \"0\" and i%2 == 0:\n",
    "                val += .5\n",
    "                val *= 4\n",
    "            point[\"weights\"][key] = val\n",
    "        points.append(point)\n",
    "    return points"
   ]
  },
  {
   "cell_type": "code",
   "execution_count": 19,
   "id": "f8b29eca-5002-49db-8ac6-6c6c909f0e1d",
   "metadata": {},
   "outputs": [],
   "source": [
    "viz.data = gen_big_data()"
   ]
  },
  {
   "cell_type": "code",
   "execution_count": 20,
   "id": "be4ad213-df6b-4f71-a510-288bd40f9128",
   "metadata": {},
   "outputs": [],
   "source": [
    "viz.modify_anchor(0, \"name\", \"Blue feature\")\n",
    "viz.modify_anchor(1, \"name\", \"Orange feature 1\")\n",
    "viz.modify_anchor(2, \"name\", \"Orange feature 2\")\n",
    "viz.modify_anchor(3, \"name\", \"Orange feature 3\")"
   ]
  },
  {
   "cell_type": "code",
   "execution_count": 16,
   "id": "3cfe1b4c-b709-4cc6-ae7f-97e42d457901",
   "metadata": {},
   "outputs": [],
   "source": [
    "alt_data = [\n",
    "    {\"id\": \"0\", \"color\": \"blue\", \"weights\": { \"0\": 0.5, \"1\": 0.6}, \"labeled\": True},\n",
    "    {\"id\": \"1\", \"color\": \"blue\", \"weights\": { \"0\": 0.0, \"1\": 0.1}, \"labeled\": True},\n",
    "    {\"id\": \"2\", \"color\": \"blue\", \"weights\": { \"0\": 0.4, \"1\": 1.1}, \"labeled\": True},\n",
    "    {\"id\": \"3\", \"color\": \"blue\", \"weights\": { \"0\": 0.0, \"1\": 1.0}, \"labeled\": True},\n",
    "    {\"id\": \"4\", \"color\": \"blue\", \"weights\": { \"0\": 0.0, \"1\": 1.5}},\n",
    "    {\"id\": \"5\", \"color\": \"blue\", \"weights\": { \"0\": 0.7, \"1\": 1.0}, \"labeled\": True},\n",
    "    {\"id\": \"6\", \"color\": \"blue\", \"weights\": { \"0\": 0.5, \"1\": 0.5}},\n",
    "    {\"id\": \"7\", \"color\": \"blue\", \"weights\": { \"0\": 0.4, \"1\": 0.7}},\n",
    "]\n",
    "viz.data = alt_data"
   ]
  },
  {
   "cell_type": "code",
   "execution_count": 17,
   "id": "48d6070b-8103-4526-8d0c-38058051c381",
   "metadata": {},
   "outputs": [],
   "source": [
    "viz.modify_point(3, \"color\", \"green\")\n",
    "viz.modify_point(4, \"color\", \"green\")"
   ]
  },
  {
   "cell_type": "code",
   "execution_count": null,
   "id": "46cfe747-c716-49c1-8263-50dbf955b1f3",
   "metadata": {},
   "outputs": [],
   "source": [
    "viz.add_point({\"color\": \"yellow\", \"weights\": { \"0\": 0.6, \"1\": 0.2 }})"
   ]
  },
  {
   "cell_type": "code",
   "execution_count": null,
   "id": "1edc5653-8731-4623-8fef-97633fa03dbe",
   "metadata": {},
   "outputs": [],
   "source": [
    "viz.lassoedPointIDs = [1, 2]"
   ]
  },
  {
   "cell_type": "code",
   "execution_count": null,
   "id": "bc30f4ad-3b8f-41e1-9009-edb27d3d8bc7",
   "metadata": {},
   "outputs": [],
   "source": [
    "viz.selectedAnchorID = \"1\""
   ]
  },
  {
   "cell_type": "code",
   "execution_count": null,
   "id": "1bf77c74-87d7-42ed-a73a-c11109a6a269",
   "metadata": {},
   "outputs": [],
   "source": [
    "viz.selectedDataPointID = \"0\""
   ]
  },
  {
   "cell_type": "code",
   "execution_count": null,
   "id": "58b1aad1-123c-460e-aa81-efa2437c98b2",
   "metadata": {},
   "outputs": [],
   "source": [
    "viz.anchors = [\n",
    "    {\"id\": \"0\", \"name\": \"things\", \"theta\": 1.5},\n",
    "    {\"id\": \"1\", \"name\": \"things2\", \"theta\": 2.5}\n",
    "]"
   ]
  },
  {
   "cell_type": "markdown",
   "id": "be5b3f1a-a35b-41a2-a479-a0c1a000e577",
   "metadata": {},
   "source": [
    "Add anchor via python"
   ]
  },
  {
   "cell_type": "code",
   "execution_count": null,
   "id": "5b624f96-9bc7-4968-8c5d-e47f00c96614",
   "metadata": {},
   "outputs": [],
   "source": [
    "# type(viz.anchors), type(viz.anchors[0])"
   ]
  },
  {
   "cell_type": "code",
   "execution_count": null,
   "id": "1da03f67-5b28-43ff-b66d-89637aba1893",
   "metadata": {},
   "outputs": [],
   "source": [
    "# viz.anchors = viz.anchors + [{\"id\": 5, \"name\": \"things\", \"theta\": 1.5}]"
   ]
  },
  {
   "cell_type": "markdown",
   "id": "31865ae0-09ea-482d-a2f9-ed32a82444cc",
   "metadata": {},
   "source": [
    "Modify anchor via python"
   ]
  },
  {
   "cell_type": "code",
   "execution_count": null,
   "id": "c341dfd1-0342-4f91-84cd-7542a7f05082",
   "metadata": {},
   "outputs": [],
   "source": [
    "viz.modify_anchor(1, \"color\", \"purple\")"
   ]
  },
  {
   "cell_type": "code",
   "execution_count": null,
   "id": "4a55e51a-3698-4485-b199-18f8ee02c375",
   "metadata": {},
   "outputs": [],
   "source": [
    "anchor_to_change = viz.anchors[1]\n",
    "anchor_to_change[\"color\"] = \"purple\"\n",
    "viz.anchors.pop(1)\n",
    "viz.anchors = viz.anchors + [anchor_to_change]\n"
   ]
  },
  {
   "cell_type": "code",
   "execution_count": null,
   "id": "cd5150e8-67db-4d4a-a116-dd3d683b83b7",
   "metadata": {},
   "outputs": [],
   "source": [
    "viz.anchors[1]"
   ]
  },
  {
   "cell_type": "code",
   "execution_count": null,
   "id": "0bd32753-300b-4e71-a215-c56fb074e7f1",
   "metadata": {},
   "outputs": [],
   "source": [
    "viz.anchors[1] = dict(id=1, name=\"whaaaa\", theta=\"0.5\", color=\"orange\")"
   ]
  },
  {
   "cell_type": "code",
   "execution_count": null,
   "id": "e096fe32-2462-4e30-84ad-bdb636918465",
   "metadata": {},
   "outputs": [],
   "source": [
    "type(viz.anchors)"
   ]
  },
  {
   "cell_type": "code",
   "execution_count": null,
   "id": "76d57c80-c043-4e3e-a0ac-0ced5b62dc05",
   "metadata": {},
   "outputs": [],
   "source": [
    "viz.anchors[1][\"color\"] = \"orange\""
   ]
  },
  {
   "cell_type": "code",
   "execution_count": null,
   "id": "329cefcc-e37f-4d40-8478-9f7477ec1a42",
   "metadata": {},
   "outputs": [],
   "source": [
    "viz.anchors[1][\"color\"] = \"orange\"\n",
    "viz.notify_change({\"name\": \"anchors\", \"type\":\"change\"})"
   ]
  },
  {
   "cell_type": "code",
   "execution_count": null,
   "id": "d5511453-c9d7-4175-9d89-4d10ac331ed8",
   "metadata": {},
   "outputs": [],
   "source": [
    "anchors = viz.anchors\n",
    "anchors[1][\"color\"] = \"green\"\n",
    "viz.anchors = anchors"
   ]
  },
  {
   "cell_type": "markdown",
   "id": "fb916e4a-6486-451c-bddd-48615757b39e",
   "metadata": {},
   "source": [
    "Delete anchor via python"
   ]
  },
  {
   "cell_type": "code",
   "execution_count": 21,
   "id": "eb6fe8ec-6bfb-4392-a7fe-c63e8eccbd50",
   "metadata": {},
   "outputs": [],
   "source": [
    "viz.anchors = [viz.anchors[0]]"
   ]
  },
  {
   "cell_type": "code",
   "execution_count": null,
   "id": "9b78867d-aa44-4dfc-9a5c-8bd204a1a0d6",
   "metadata": {},
   "outputs": [],
   "source": [
    "viz.anchors"
   ]
  }
 ],
 "metadata": {
  "kernelspec": {
   "display_name": "Python 3 (ipykernel)",
   "language": "python",
   "name": "python3"
  },
  "language_info": {
   "codemirror_mode": {
    "name": "ipython",
    "version": 3
   },
   "file_extension": ".py",
   "mimetype": "text/x-python",
   "name": "python",
   "nbconvert_exporter": "python",
   "pygments_lexer": "ipython3",
   "version": "3.10.5"
  }
 },
 "nbformat": 4,
 "nbformat_minor": 5
}
